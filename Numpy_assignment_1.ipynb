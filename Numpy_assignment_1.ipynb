{
  "nbformat": 4,
  "nbformat_minor": 0,
  "metadata": {
    "colab": {
      "provenance": []
    },
    "kernelspec": {
      "name": "python3",
      "display_name": "Python 3"
    },
    "language_info": {
      "name": "python"
    }
  },
  "cells": [
    {
      "cell_type": "code",
      "execution_count": 66,
      "metadata": {
        "id": "1NOyQ3tq66Wl"
      },
      "outputs": [],
      "source": [
        "#THEORETICAL QUESTIONS"
      ]
    },
    {
      "cell_type": "code",
      "source": [
        "#1. Explain the purpose and advantages of NumPy in scientific computing and data analysis. How does it\n",
        "# enhance Python's capabilities for numerical operations?\n"
      ],
      "metadata": {
        "id": "ZnDEz4CqPUAY"
      },
      "execution_count": 67,
      "outputs": []
    },
    {
      "cell_type": "code",
      "source": [
        "#ans: Numpy is a core library for numerical computing in python, providing efficient multi-dimensional array operations\n",
        "# and mathematical functions.It enhances python's performance with vectorized operations and memory-efficient data structures.\n",
        "#Numpy supports advanced operations like linear algebra and random number generation, and integrates with other scientific libraries,\n",
        "#making it essential for data analyisis and scientific computing"
      ],
      "metadata": {
        "id": "7x2OowTpPmfs"
      },
      "execution_count": 68,
      "outputs": []
    },
    {
      "cell_type": "code",
      "source": [
        "#2. Compare and contrast np.mean() and np.average() functions in NumPy. When would you use one over the other?"
      ],
      "metadata": {
        "id": "Bi1Azw6bPmjM"
      },
      "execution_count": 69,
      "outputs": []
    },
    {
      "cell_type": "code",
      "source": [
        "#ans: np.mean() and np.average() both calculate the average of array elements, but np.average() offers aditional functionality such as weighting\n",
        "#we can use np.mean() for simple average calculations while np.average() for when you need to compute a weighted average as it allows specifying\n",
        "#weights for the elements."
      ],
      "metadata": {
        "id": "nOSjDsvbPUHI"
      },
      "execution_count": null,
      "outputs": []
    },
    {
      "cell_type": "code",
      "source": [
        "#example:\n",
        "arr=np.array([1,2,3,4,5])\n",
        "print('mean:',np.mean(arr))\n",
        "weights=np.array([1,1,1,1,2])\n",
        "print('weighted_average',np.average(arr,weights=weights))# it is calcualted as (1*1+2*1+3*1+4*1+5*2)/(1+1+1+1+2) where 5 has higher weights"
      ],
      "metadata": {
        "colab": {
          "base_uri": "https://localhost:8080/"
        },
        "id": "gptyTbefUBcR",
        "outputId": "14cbd34b-cd9b-43be-97c9-33b9cfe5dae3"
      },
      "execution_count": 72,
      "outputs": [
        {
          "output_type": "stream",
          "name": "stdout",
          "text": [
            "mean: 3.0\n",
            "weighted_average 3.3333333333333335\n"
          ]
        }
      ]
    },
    {
      "cell_type": "code",
      "source": [
        "#3. Describe the methods for reversing a NumPy array along different axes. Provide examples for 1D and 2D arrays."
      ],
      "metadata": {
        "id": "j9OoTlAdUBf3"
      },
      "execution_count": null,
      "outputs": []
    },
    {
      "cell_type": "code",
      "source": [
        "#ans:To reverse a numpy array along different axes:\n",
        "# 1D array: we can use slicing with [::-1] to reverse the array\n",
        "#2D array: we can use slicing to reverse along specific axes, example:[::-1] for rows and [:,::-1] for columns"
      ],
      "metadata": {
        "id": "H5QTAmxlVQWT"
      },
      "execution_count": 73,
      "outputs": []
    },
    {
      "cell_type": "code",
      "source": [
        "#example:\n",
        "arr=np.array([1,2,3,4,5,6])\n",
        "arr_rev=arr[::-1]\n",
        "print(arr)\n",
        "print(arr_rev)\n",
        "print()\n",
        "arr_2d=np.array([1,2],[3,4])\n",
        "arr_2d_rev=arr_2d[::-1]#2d rows wise reverse\n",
        "arr_2d_rev2=arr_2d[:,::-1]#2d column reverse"
      ],
      "metadata": {
        "id": "qOhbVk18VQZ3"
      },
      "execution_count": null,
      "outputs": []
    },
    {
      "cell_type": "code",
      "source": [
        "#4. How can you determine the data type of elements in a NumPy array? Discuss the importance of data types\n",
        "# in memory management and performance"
      ],
      "metadata": {
        "id": "E7b--poMayxg"
      },
      "execution_count": null,
      "outputs": []
    },
    {
      "cell_type": "code",
      "source": [
        "#ans: we can determine the data type of elements in a numpy array by using arr.dtype atrribut:\n",
        "arr=np.array([1,2,3,4,5])\n",
        "print('data type of arr is:',arr.dtype)\n",
        "#importance of data types:\n",
        "#Memory management: data types determine how much memory each element occupies.ex: np.int32 uses 4 bytes while np.float 64 uses 8 byte\n",
        "#Performance: operations on array with smaller data types(like np.float32 instead of np.float64) can be faster and more efficient as they require less computinal\n",
        "#power and memory bandwidth"
      ],
      "metadata": {
        "colab": {
          "base_uri": "https://localhost:8080/"
        },
        "id": "fe7mvIKDay0_",
        "outputId": "0adae712-6c11-40cf-9290-5a2fbe2f0f75"
      },
      "execution_count": 74,
      "outputs": [
        {
          "output_type": "stream",
          "name": "stdout",
          "text": [
            "data type of arr is: int64\n"
          ]
        }
      ]
    },
    {
      "cell_type": "code",
      "source": [
        "#5. Define ndarrays in NumPy and explain their key features. How do they differ from standard Python lists?"
      ],
      "metadata": {
        "id": "gG3HycTxay72"
      },
      "execution_count": null,
      "outputs": []
    },
    {
      "cell_type": "code",
      "source": [
        "#ans:ndarrays (n-dimensional array) in Numpy is a powerfull data structure with the following key features:\n",
        "#multi-dimensional:supports arrays of any dimension\n",
        "# Homogenous: all elements are of the same data type\n",
        "#vectorized operations: enables fast-element-wise operations without explicit loops\n",
        "#Differences from python lists:\n",
        "#Performance: ndarray is faster and more memory-efficient\n",
        "#Homogeneity:ndarray requires a single data type,unlike python lists\n",
        "#Functionality:ndarray offers extesive mathematical and statistical functions.\n"
      ],
      "metadata": {
        "id": "8E4dJndqfCxZ"
      },
      "execution_count": null,
      "outputs": []
    },
    {
      "cell_type": "code",
      "source": [
        "#6. Analyze the performance benefits of NumPy arrays over Python lists for large-scale numerical operations."
      ],
      "metadata": {
        "id": "4TWlJPL9eIln"
      },
      "execution_count": null,
      "outputs": []
    },
    {
      "cell_type": "code",
      "source": [
        "#Numpy arrays are faster and more efficient than python lists for large-scale numerical tasks because:\n",
        "#speed:Numpy operations run faster due to optimized c code\n",
        "#vectorization: Numpy can preform calcualations on entire arrays at once,avoiding slow loops.\n",
        "#Memory efficiency: Numpy arrays use less memory by storing data more compactly."
      ],
      "metadata": {
        "id": "bBOBRgToeIo9"
      },
      "execution_count": null,
      "outputs": []
    },
    {
      "cell_type": "code",
      "source": [
        "#7. Compare vstack() and hstack() functions in NumPy. Provide examples demonstrating their usage and output."
      ],
      "metadata": {
        "id": "usHCbuaneIsA"
      },
      "execution_count": null,
      "outputs": []
    },
    {
      "cell_type": "code",
      "source": [
        "#vstack() and hstack() are Numpy functions used for stacking arrays vertically and horizontally, respectively:\n",
        "#vstack():stacks arrays vertically(row-wise)\n",
        "#hstack():stacks arrays hortizontally(column-wise)\n",
        "#example:\n",
        "a=np.array([[1,2],[3,4]])\n",
        "b=np.array([5,6],ndmin=2)\n",
        "#vertical arrays:\n",
        "vstack_result=np.vstack((a,b))\n",
        "#horizontal stack\n",
        "hstack_result=np.hstack((a,b.T))\n",
        "\n",
        "print(vstack_result)\n",
        "print(hstack_result)"
      ],
      "metadata": {
        "colab": {
          "base_uri": "https://localhost:8080/"
        },
        "id": "UiTJE4z6hkRC",
        "outputId": "9448649c-3a5f-4a40-9f5b-220551bc269a"
      },
      "execution_count": 77,
      "outputs": [
        {
          "output_type": "stream",
          "name": "stdout",
          "text": [
            "[[1 2]\n",
            " [3 4]\n",
            " [5 6]]\n",
            "[[1 2 5]\n",
            " [3 4 6]]\n"
          ]
        }
      ]
    },
    {
      "cell_type": "code",
      "source": [
        "#8. Explain the differences between fliplr() and flipud() methods in NumPy, including their effects on various array dimensions."
      ],
      "metadata": {
        "id": "o2I1AQiEhkUH"
      },
      "execution_count": 78,
      "outputs": []
    },
    {
      "cell_type": "code",
      "source": [
        "#fliplr() and flipud() are numpy methods used to flip arrays:\n",
        "# fliplr(): Flips the array horizontally(left to right), affecting only 2D arrays or higher.\n",
        "#flipud():Flips the array vertically(top to bottom) affecting 1D arrays and higher.\n",
        "#Effects:\n",
        "#fliplr():Reverses the order of columns.\n",
        "#flipud():Reverses the order of rows\n",
        "#exsmple:\n",
        "a=np.arange(6).reshape(2,3)\n",
        "print('original array\\n',a)\n",
        "print('fliplr result\\n',np.fliplr(a))\n",
        "print('flipud result\\n',np.flipud(a))\n"
      ],
      "metadata": {
        "colab": {
          "base_uri": "https://localhost:8080/"
        },
        "id": "H5qM_CmAph2N",
        "outputId": "4b59ef3b-e419-4577-a8ad-5a4a1b597be7"
      },
      "execution_count": 82,
      "outputs": [
        {
          "output_type": "stream",
          "name": "stdout",
          "text": [
            "original array\n",
            " [[0 1 2]\n",
            " [3 4 5]]\n",
            "fliplr result\n",
            " [[2 1 0]\n",
            " [5 4 3]]\n",
            "flipud result\n",
            " [[3 4 5]\n",
            " [0 1 2]]\n"
          ]
        }
      ]
    },
    {
      "cell_type": "code",
      "source": [
        "#9. Discuss the functionality of the array_split() method in NumPy. How does it handle uneven splits?"
      ],
      "metadata": {
        "id": "DcYEOkIgph5N"
      },
      "execution_count": null,
      "outputs": []
    },
    {
      "cell_type": "code",
      "source": [
        "#ans: The array_split() method in Numpy splits an array into multiple sub-arrays. Unlike split() it handles\n",
        "# eneven splits by distributing the remainder among the first few sub-arrays.\n",
        "#example:\n",
        "arr=np.arange(9)\n",
        "arr_split=np.array_split(arr,3)\n",
        "print('original array:',arr)\n",
        "print('splited_array:',arr_split)# array after using np.array_split() it divide whole array into 3 pieces"
      ],
      "metadata": {
        "colab": {
          "base_uri": "https://localhost:8080/"
        },
        "id": "hnkSR8IDph9G",
        "outputId": "3be31e58-01e8-495f-bc6f-f923b52b13db"
      },
      "execution_count": 83,
      "outputs": [
        {
          "output_type": "stream",
          "name": "stdout",
          "text": [
            "original array: [0 1 2 3 4 5 6 7 8]\n",
            "splited_array: [array([0, 1, 2]), array([3, 4, 5]), array([6, 7, 8])]\n"
          ]
        }
      ]
    },
    {
      "cell_type": "code",
      "source": [
        "#10. Explain the concepts of vectorization and broadcasting in NumPy. How do they contribute to efficient array operations?"
      ],
      "metadata": {
        "id": "lRh3OBoEpiAt"
      },
      "execution_count": null,
      "outputs": []
    },
    {
      "cell_type": "code",
      "source": [
        "# Vectorization:\n",
        "#--Applies operations to entire arrays at once,bypassing the need for loops.\n",
        "#--it is significantly faster than looping through elements individually.\n",
        "\n",
        "#Broadcasting:\n",
        "#--Allows operations on arrays of different shapes by expanding smaller arrays to match larger ones.\n",
        "#--it simplifies code and enhances efficiency withour extra memory usage\n",
        "\n",
        "##contribution and efficiency:\n",
        "#speed:Operations are executed faster\n",
        "#memory: broadcasting avoids extra copies, saving memory and imporving performance."
      ],
      "metadata": {
        "id": "T7hxCbcOhkW6"
      },
      "execution_count": 84,
      "outputs": []
    },
    {
      "cell_type": "code",
      "source": [
        "##Practical questions"
      ],
      "metadata": {
        "id": "Y4n_JQDCPUVH"
      },
      "execution_count": 65,
      "outputs": []
    },
    {
      "cell_type": "code",
      "source": [
        "import numpy as np\n",
        "import pandas as pd"
      ],
      "metadata": {
        "id": "JwpxSXK8673E"
      },
      "execution_count": 2,
      "outputs": []
    },
    {
      "cell_type": "code",
      "source": [
        "#1. Create a 3x3 NumPy array with random integers between 1 and 100. Then, interchange its rows and columns."
      ],
      "metadata": {
        "id": "t2mmOxkA7DRo"
      },
      "execution_count": 3,
      "outputs": []
    },
    {
      "cell_type": "code",
      "source": [
        "a=np.random.randint(1,101,(3,3))\n",
        "print(a)"
      ],
      "metadata": {
        "colab": {
          "base_uri": "https://localhost:8080/",
          "height": 0
        },
        "id": "SWaLMwuW7DUX",
        "outputId": "b537755c-5eaa-4f03-b6f5-9cce658a3f02"
      },
      "execution_count": 9,
      "outputs": [
        {
          "output_type": "execute_result",
          "data": {
            "text/plain": [
              "array([[65, 29, 45],\n",
              "       [ 9,  9, 30],\n",
              "       [44, 29, 90]])"
            ]
          },
          "metadata": {},
          "execution_count": 9
        }
      ]
    },
    {
      "cell_type": "code",
      "source": [
        "new_array=a.T\n",
        "print(new_array)"
      ],
      "metadata": {
        "colab": {
          "base_uri": "https://localhost:8080/",
          "height": 0
        },
        "id": "G_2jKXkP7DY7",
        "outputId": "62a4f146-059e-415c-c377-e7dfd67b9ed5"
      },
      "execution_count": 10,
      "outputs": [
        {
          "output_type": "execute_result",
          "data": {
            "text/plain": [
              "array([[65,  9, 44],\n",
              "       [29,  9, 29],\n",
              "       [45, 30, 90]])"
            ]
          },
          "metadata": {},
          "execution_count": 10
        }
      ]
    },
    {
      "cell_type": "code",
      "source": [
        "#2. Generate a 1D NumPy array with 10 elements. Reshape it into a 2x5 array, then into a 5x2 array"
      ],
      "metadata": {
        "id": "LohlQB6b7Dbm"
      },
      "execution_count": 11,
      "outputs": []
    },
    {
      "cell_type": "code",
      "source": [
        "b=np.arange(10)"
      ],
      "metadata": {
        "id": "vNZrMfNY7Dgp"
      },
      "execution_count": 12,
      "outputs": []
    },
    {
      "cell_type": "code",
      "source": [
        "c=b.reshape(2,5)#reshapeing b into(2*5)"
      ],
      "metadata": {
        "id": "-T4jB4Yo7Djs"
      },
      "execution_count": 14,
      "outputs": []
    },
    {
      "cell_type": "code",
      "source": [
        "c.reshape(5,2)# reshaping c into (5*2)\n",
        "print(b)\n",
        "print(c)\n",
        "print(c.reshape(5,2))"
      ],
      "metadata": {
        "colab": {
          "base_uri": "https://localhost:8080/",
          "height": 0
        },
        "id": "uAkdyVLE7Doi",
        "outputId": "6947345a-bd84-46f3-9c39-364212c3f1f9"
      },
      "execution_count": 62,
      "outputs": [
        {
          "output_type": "stream",
          "name": "stdout",
          "text": [
            "[0 1 2 3 4 5 6 7 8 9]\n",
            "[[0 1 2 3 4]\n",
            " [5 6 7 8 9]]\n",
            "[[0 1]\n",
            " [2 3]\n",
            " [4 5]\n",
            " [6 7]\n",
            " [8 9]]\n"
          ]
        }
      ]
    },
    {
      "cell_type": "code",
      "source": [
        "#3. Create a 4x4 NumPy array with random float values. Add a border of zeros around it, resulting in a 6x6 array."
      ],
      "metadata": {
        "id": "iw_rBMJa7DrL"
      },
      "execution_count": 63,
      "outputs": []
    },
    {
      "cell_type": "code",
      "source": [
        "d=np.random.random((4,4))"
      ],
      "metadata": {
        "id": "DPV0sNEV7Dug"
      },
      "execution_count": 64,
      "outputs": []
    },
    {
      "cell_type": "code",
      "source": [
        "print(d)"
      ],
      "metadata": {
        "colab": {
          "base_uri": "https://localhost:8080/",
          "height": 0
        },
        "id": "ohC6bj9f7Ah5",
        "outputId": "8e3ef9c7-3b70-4112-e5a6-03e1c746566a"
      },
      "execution_count": 18,
      "outputs": [
        {
          "output_type": "execute_result",
          "data": {
            "text/plain": [
              "array([[0.36250702, 0.39262499, 0.62267986, 0.3300217 ],\n",
              "       [0.35472351, 0.62378034, 0.13510183, 0.8908689 ],\n",
              "       [0.96437733, 0.2634582 , 0.66545545, 0.73572646],\n",
              "       [0.65111314, 0.21294461, 0.04023605, 0.08619037]])"
            ]
          },
          "metadata": {},
          "execution_count": 18
        }
      ]
    },
    {
      "cell_type": "code",
      "source": [],
      "metadata": {
        "id": "rYiBHHJEPR9V"
      },
      "execution_count": null,
      "outputs": []
    },
    {
      "cell_type": "code",
      "source": [],
      "metadata": {
        "id": "JkVi5yuhPSCW"
      },
      "execution_count": null,
      "outputs": []
    },
    {
      "cell_type": "code",
      "source": [
        "e=np.zeros((6,6))"
      ],
      "metadata": {
        "id": "ewK-CufK9vPF"
      },
      "execution_count": 22,
      "outputs": []
    },
    {
      "cell_type": "code",
      "source": [
        "e[1:-1,1:-1]=d"
      ],
      "metadata": {
        "id": "J2jkxaef98et"
      },
      "execution_count": 23,
      "outputs": []
    },
    {
      "cell_type": "code",
      "source": [
        "print(e)\n",
        "print(e.shape)"
      ],
      "metadata": {
        "colab": {
          "base_uri": "https://localhost:8080/",
          "height": 0
        },
        "id": "hp3vgX5H-wE5",
        "outputId": "138a3e26-e39e-45d1-ebbb-03e6f4777c2e"
      },
      "execution_count": 27,
      "outputs": [
        {
          "output_type": "stream",
          "name": "stdout",
          "text": [
            "[[0.         0.         0.         0.         0.         0.        ]\n",
            " [0.         0.36250702 0.39262499 0.62267986 0.3300217  0.        ]\n",
            " [0.         0.35472351 0.62378034 0.13510183 0.8908689  0.        ]\n",
            " [0.         0.96437733 0.2634582  0.66545545 0.73572646 0.        ]\n",
            " [0.         0.65111314 0.21294461 0.04023605 0.08619037 0.        ]\n",
            " [0.         0.         0.         0.         0.         0.        ]]\n",
            "(6, 6)\n"
          ]
        }
      ]
    },
    {
      "cell_type": "code",
      "source": [
        "#4. Using NumPy, create an array of integers from 10 to 60 with a step of 5."
      ],
      "metadata": {
        "id": "eUN_CpBK-w7B"
      },
      "execution_count": 28,
      "outputs": []
    },
    {
      "cell_type": "code",
      "source": [
        "arr=np.arange(10,61,5)"
      ],
      "metadata": {
        "id": "EapZQi_J_FVM"
      },
      "execution_count": 29,
      "outputs": []
    },
    {
      "cell_type": "code",
      "source": [
        "print(arr)\n",
        "print(type(arr))"
      ],
      "metadata": {
        "colab": {
          "base_uri": "https://localhost:8080/",
          "height": 0
        },
        "id": "jPrJBDzb_WpG",
        "outputId": "c36661d9-352b-4602-ba44-185d549e66cd"
      },
      "execution_count": 31,
      "outputs": [
        {
          "output_type": "stream",
          "name": "stdout",
          "text": [
            "[10 15 20 25 30 35 40 45 50 55 60]\n",
            "<class 'numpy.ndarray'>\n"
          ]
        }
      ]
    },
    {
      "cell_type": "code",
      "source": [
        "#5. Create a NumPy array of strings ['python', 'numpy', 'pandas']. Apply different case transformations\n",
        "# (uppercase, lowercase, title case, etc.) to each element."
      ],
      "metadata": {
        "id": "jUmO6En__X-_"
      },
      "execution_count": 32,
      "outputs": []
    },
    {
      "cell_type": "code",
      "source": [
        "arr=np.array(['python', 'numpy', 'pandas'])"
      ],
      "metadata": {
        "id": "_65O9GaW_tY-"
      },
      "execution_count": 33,
      "outputs": []
    },
    {
      "cell_type": "code",
      "source": [
        "arr_uppercase=np.char.upper(arr)\n",
        "print(arr_uppercase)\n",
        "arr_lowercase=np.char.lower(arr)\n",
        "print(arr_lowercase)\n",
        "arr_titlecase=np.char.title(arr)\n",
        "print(arr_titlecase)"
      ],
      "metadata": {
        "colab": {
          "base_uri": "https://localhost:8080/",
          "height": 0
        },
        "id": "Ji0wVMNo_6ZN",
        "outputId": "e7f80e7c-bef2-4265-c971-782989a51e18"
      },
      "execution_count": 35,
      "outputs": [
        {
          "output_type": "stream",
          "name": "stdout",
          "text": [
            "['PYTHON' 'NUMPY' 'PANDAS']\n",
            "['python' 'numpy' 'pandas']\n",
            "['Python' 'Numpy' 'Pandas']\n"
          ]
        }
      ]
    },
    {
      "cell_type": "code",
      "source": [
        "#6. Generate a NumPy array of words. Insert a space between each character of every word in the array."
      ],
      "metadata": {
        "id": "yHnTz2PkAjmQ"
      },
      "execution_count": 36,
      "outputs": []
    },
    {
      "cell_type": "code",
      "source": [
        "arr=np.array(['my','name','is','khan'])\n",
        "new_arr=np.char.join(' ',arr)\n",
        "print(arr)\n",
        "print(new_arr)"
      ],
      "metadata": {
        "colab": {
          "base_uri": "https://localhost:8080/",
          "height": 0
        },
        "id": "w68t4yLUBE6E",
        "outputId": "2ad51844-ad48-4f13-a97f-2960cfb50750"
      },
      "execution_count": 37,
      "outputs": [
        {
          "output_type": "stream",
          "name": "stdout",
          "text": [
            "['my' 'name' 'is' 'khan']\n",
            "['m y' 'n a m e' 'i s' 'k h a n']\n"
          ]
        }
      ]
    },
    {
      "cell_type": "code",
      "source": [
        "#7. Create two 2D NumPy arrays and perform element-wise addition, subtraction, multiplication, and division."
      ],
      "metadata": {
        "id": "WW5LJF9DC3X2"
      },
      "execution_count": 38,
      "outputs": []
    },
    {
      "cell_type": "code",
      "source": [
        "arr1=np.arange(6).reshape(2,3)\n",
        "arr2=np.arange(6,12).reshape(2,3)"
      ],
      "metadata": {
        "id": "E7-FGMP9DfTA"
      },
      "execution_count": 39,
      "outputs": []
    },
    {
      "cell_type": "code",
      "source": [
        "#addition\n",
        "print(arr1+arr2)\n",
        "#substraction\n",
        "print(arr2-arr1)\n",
        "#multiplication\n",
        "print(arr1*arr2)\n",
        "#division\n",
        "print(arr1/arr2)"
      ],
      "metadata": {
        "colab": {
          "base_uri": "https://localhost:8080/",
          "height": 0
        },
        "id": "PvhJMZ9rENbB",
        "outputId": "1f22c4b2-09c0-4b37-f127-01dbf7454262"
      },
      "execution_count": 40,
      "outputs": [
        {
          "output_type": "stream",
          "name": "stdout",
          "text": [
            "[[ 6  8 10]\n",
            " [12 14 16]]\n",
            "[[6 6 6]\n",
            " [6 6 6]]\n",
            "[[ 0  7 16]\n",
            " [27 40 55]]\n",
            "[[0.         0.14285714 0.25      ]\n",
            " [0.33333333 0.4        0.45454545]]\n"
          ]
        }
      ]
    },
    {
      "cell_type": "code",
      "source": [
        "#8. Use NumPy to create a 5x5 identity matrix, then extract its diagonal elements."
      ],
      "metadata": {
        "id": "GunkqjXaEzTu"
      },
      "execution_count": 41,
      "outputs": []
    },
    {
      "cell_type": "code",
      "source": [
        "arr=np.identity(5,dtype=int)\n",
        "#extracting daigonal elements\n",
        "arr_new=np.diag(arr)\n",
        "\n",
        "print(arr)\n",
        "print(arr_new)"
      ],
      "metadata": {
        "colab": {
          "base_uri": "https://localhost:8080/",
          "height": 0
        },
        "id": "ZeIRhwacFAQU",
        "outputId": "e4e06001-c043-4610-a43c-4e167c1aea66"
      },
      "execution_count": 48,
      "outputs": [
        {
          "output_type": "stream",
          "name": "stdout",
          "text": [
            "[[1 0 0 0 0]\n",
            " [0 1 0 0 0]\n",
            " [0 0 1 0 0]\n",
            " [0 0 0 1 0]\n",
            " [0 0 0 0 1]]\n",
            "[1 1 1 1 1]\n"
          ]
        }
      ]
    },
    {
      "cell_type": "code",
      "source": [
        "#9. Generate a NumPy array of 100 random integers between 0 and 1000. Find and display all prime numbers in this array\n"
      ],
      "metadata": {
        "id": "ykfY3txfFYo0"
      },
      "execution_count": 49,
      "outputs": []
    },
    {
      "cell_type": "code",
      "source": [
        "def is_prime(num):\n",
        "  if num<2:\n",
        "    return False\n",
        "  for i in range(2,int(np.sqrt(num))+1):\n",
        "    if num%i==0:\n",
        "      return False\n",
        "  return True\n",
        "\n",
        "arr=np.random.randint(0,1001,size=1000)\n",
        "#print(arr)\n",
        "primes=np.array([num for num in arr if is_prime(num)])\n",
        "print(primes)\n",
        "print(len(primes))"
      ],
      "metadata": {
        "colab": {
          "base_uri": "https://localhost:8080/",
          "height": 0
        },
        "id": "NATKlRUeFZ3r",
        "outputId": "03aa1097-5b33-45af-dff4-307788582ba2"
      },
      "execution_count": 52,
      "outputs": [
        {
          "output_type": "stream",
          "name": "stdout",
          "text": [
            "[487 593 683 691 401 353 811 991 797   7 877 227 197 601 577 991 653 419\n",
            " 809 419 971 211 109 337 547  89 751 149 823 191  43 937 109 263 827 277\n",
            " 727   7   7 653 443 353 439 139 709 761 103 173 677 449 401  19  47 619\n",
            " 223 199 367 149 643 313 691 401 191 733 149  67  61   2  97 131 757 997\n",
            " 421 163 857 991 103 103 127 853   7 263 199 313 587 251 317  89 547 811\n",
            " 701  19 443 719  61 281 421 733 373 421 691 577 797  83 823  13 523 229\n",
            " 197  59 113  11 503 829 373 271 367 877 599 863 733  19 941 683 619 619\n",
            " 107 617 317 223 137 797 179 271  53   5  41  47 883 149  97 503 457 229\n",
            "  41 863 683 181 937 809 103]\n",
            "151\n"
          ]
        }
      ]
    },
    {
      "cell_type": "code",
      "source": [
        "#10. Create a NumPy array representing daily temperatures for a month. Calculate and display the weekly averages."
      ],
      "metadata": {
        "id": "9sPe2PjOK-3H"
      },
      "execution_count": 53,
      "outputs": []
    },
    {
      "cell_type": "code",
      "source": [
        "temp_daily=np.random.uniform(low=20,high=40,size=28)\n",
        "print(temp_daily)\n",
        "weekly_temperature=temp_daily.reshape(4,7)\n",
        "print(weekly_temperature)\n",
        "average_weekly_temp=np.mean(weekly_temperature)\n",
        "print(average_weekly_temp)"
      ],
      "metadata": {
        "colab": {
          "base_uri": "https://localhost:8080/",
          "height": 0
        },
        "id": "iD98rMTWL9K1",
        "outputId": "e67f65ce-adf8-42a2-d6f5-7525de20def4"
      },
      "execution_count": 60,
      "outputs": [
        {
          "output_type": "stream",
          "name": "stdout",
          "text": [
            "[31.00290979 34.19879304 34.38683497 21.67204465 24.27996212 36.19576751\n",
            " 26.8027789  38.60392033 21.88198282 20.57363523 35.45180027 39.14672797\n",
            " 27.08183482 22.94553888 27.40088995 32.61289531 28.67856483 23.6742664\n",
            " 26.79665664 38.81449932 28.08843324 23.17943475 25.85082148 39.81813486\n",
            " 31.62457292 20.19974136 28.57999932 38.81375644]\n",
            "[[31.00290979 34.19879304 34.38683497 21.67204465 24.27996212 36.19576751\n",
            "  26.8027789 ]\n",
            " [38.60392033 21.88198282 20.57363523 35.45180027 39.14672797 27.08183482\n",
            "  22.94553888]\n",
            " [27.40088995 32.61289531 28.67856483 23.6742664  26.79665664 38.81449932\n",
            "  28.08843324]\n",
            " [23.17943475 25.85082148 39.81813486 31.62457292 20.19974136 28.57999932\n",
            "  38.81375644]]\n",
            "29.584185646489\n"
          ]
        }
      ]
    },
    {
      "cell_type": "code",
      "source": [],
      "metadata": {
        "id": "iU3yjJu7NNtt"
      },
      "execution_count": null,
      "outputs": []
    }
  ]
}